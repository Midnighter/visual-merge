{
 "cells": [
  {
   "cell_type": "markdown",
   "metadata": {},
   "source": [
    "Copyright 2017 Novo Nordisk Foundation Center for Biosustainability,\n",
    "Technical University of Denmark.\n",
    "\n",
    "Licensed under the Apache License, Version 2.0 (the \"License\");\n",
    "you may not use this file except in compliance with the License.\n",
    "You may obtain a copy of the License at\n",
    "\n",
    "http://www.apache.org/licenses/LICENSE-2.0\n",
    "\n",
    "Unless required by applicable law or agreed to in writing, software\n",
    "distributed under the License is distributed on an \"AS IS\" BASIS,\n",
    "WITHOUT WARRANTIES OR CONDITIONS OF ANY KIND, either express or implied.\n",
    "See the License for the specific language governing permissions and\n",
    "limitations under the License."
   ]
  },
  {
   "cell_type": "code",
   "execution_count": 1,
   "metadata": {
    "collapsed": true,
    "deletable": true,
    "editable": true
   },
   "outputs": [],
   "source": [
    "import sys\n",
    "import warnings"
   ]
  },
  {
   "cell_type": "code",
   "execution_count": 2,
   "metadata": {
    "collapsed": true,
    "deletable": true,
    "editable": true
   },
   "outputs": [],
   "source": [
    "from os.path import dirname\n",
    "from importlib import import_module"
   ]
  },
  {
   "cell_type": "code",
   "execution_count": 3,
   "metadata": {
    "collapsed": false,
    "deletable": true,
    "editable": true
   },
   "outputs": [],
   "source": [
    "from types import (ModuleType, FunctionType, LambdaType)\n",
    "try:\n",
    "    from types import (ClassType, TypeType)\n",
    "    _types = (ClassType, TypeType, type)\n",
    "except ImportError:\n",
    "    _types = type"
   ]
  },
  {
   "cell_type": "code",
   "execution_count": 4,
   "metadata": {
    "collapsed": true,
    "deletable": true,
    "editable": true
   },
   "outputs": [],
   "source": [
    "import networkx as nx\n",
    "import pygraphviz as pgv"
   ]
  },
  {
   "cell_type": "code",
   "execution_count": 5,
   "metadata": {
    "collapsed": true,
    "deletable": true,
    "editable": true
   },
   "outputs": [],
   "source": [
    "from setuptools import find_packages"
   ]
  },
  {
   "cell_type": "code",
   "execution_count": 6,
   "metadata": {
    "collapsed": true,
    "deletable": true,
    "editable": true
   },
   "outputs": [],
   "source": [
    "from IPython.display import display"
   ]
  },
  {
   "cell_type": "code",
   "execution_count": 7,
   "metadata": {
    "collapsed": true,
    "deletable": true,
    "editable": true
   },
   "outputs": [],
   "source": [
    "pkg_name = \"cameo\""
   ]
  },
  {
   "cell_type": "code",
   "execution_count": null,
   "metadata": {
    "collapsed": true,
    "deletable": true,
    "editable": true
   },
   "outputs": [],
   "source": [
    "def graph_package_hierarchy(pkg_name, graph, skip_methods=True):\n",
    "    def make_id(parent, name):\n",
    "        return \"{}_{}\".format(parent, name)\n",
    "    \n",
    "    with warnings.catch_warnings():\n",
    "        warnings.simplefilter(\"ignore\", UserWarning)\n",
    "        pkg = import_module(pkg_name)\n",
    "\n",
    "    sub_names = find_packages(dirname(pkg.__file__))\n",
    "    \n",
    "    tree = graph.add_subgraph(name=\"cluster_{}\".format(pkg_name), label=pkg_name, color=\"black\")\n",
    "    mod_attr = dict(shape=\"folder\", style=\"filled\", fillcolor=\"lightgrey\")\n",
    "    class_attr = dict(shape=\"note\")\n",
    "    func_attr = dict(shape=\"plaintext\")\n",
    "    \n",
    "    tree.add_node(pkg_name, label=pkg_name, **mod_attr)\n",
    "    for mod_name in sub_names:\n",
    "        abs_name = \"{}.{}\".format(pkg_name, mod_name)\n",
    "        __import__(abs_name)\n",
    "        module = sys.modules[abs_name]\n",
    "        print(module.__name__)\n",
    "        parent = pkg_name\n",
    "        for name in mod_name.split(\".\"):\n",
    "            mod_id = make_id(parent, name)\n",
    "            tree.add_node(mod_id, label=name, **mod_attr)\n",
    "            tree.add_edge(parent, mod_id)\n",
    "            parent = mod_id\n",
    "        for name in dir(module):\n",
    "            if name.startswith(\"_\"):\n",
    "                continue\n",
    "            elem_id = make_id(parent, name)\n",
    "            elem = getattr(module, name)\n",
    "            if isinstance(elem, ModuleType):\n",
    "                tree.add_node(elem_id, label=name, **mod_attr)\n",
    "                tree.add_edge(parent, elem_id)\n",
    "            if isinstance(elem, _types):\n",
    "                tree.add_node(elem_id, label=name, **class_attr)\n",
    "                tree.add_edge(parent, elem_id)\n",
    "                if skip_methods:\n",
    "                    continue\n",
    "                for n in dir(elem):\n",
    "                    if n.startswith(\"_\"):\n",
    "                        continue\n",
    "                    el = getattr(elem, n)\n",
    "                    print(n, type(el))\n",
    "                    if not isinstance(el, (MethodType, FunctionType, property)):\n",
    "                        continue\n",
    "                    el_id = make_id(elem_id, n)\n",
    "                    tree.add_node(el_id, label=n, **func_attr)\n",
    "                    tree.add_edge(elem_id, el_id)\n",
    "            elif isinstance(elem, (FunctionType, LambdaType)):\n",
    "                tree.add_node(elem_id, label=name, **func_attr)\n",
    "                tree.add_edge(parent, elem_id)\n",
    "    return tree"
   ]
  },
  {
   "cell_type": "code",
   "execution_count": null,
   "metadata": {
    "collapsed": false,
    "deletable": true,
    "editable": true
   },
   "outputs": [
    {
     "name": "stdout",
     "output_type": "stream",
     "text": [
      "cameo.network_analysis\n",
      "cameo.models\n"
     ]
    }
   ],
   "source": [
    "merge_view = pgv.AGraph(name=\"Merge Overview\", strict=True, directed=False, rankdir=\"LR\")\n",
    "graph_package_hierarchy(\"cameo\", merge_view)\n",
    "graph_package_hierarchy(\"cobra\", merge_view)\n",
    "merge_view.draw(\"cameo_cobra_merge.svg\", prog=\"dot\")\n",
    "merge_view.write(\"cameo_cobra_merge.dot\")"
   ]
  }
 ],
 "metadata": {
  "kernelspec": {
   "display_name": "Python 3",
   "language": "python",
   "name": "python3"
  },
  "language_info": {
   "codemirror_mode": {
    "name": "ipython",
    "version": 3
   },
   "file_extension": ".py",
   "mimetype": "text/x-python",
   "name": "python",
   "nbconvert_exporter": "python",
   "pygments_lexer": "ipython3",
   "version": "3.5.2+"
  }
 },
 "nbformat": 4,
 "nbformat_minor": 2
}
